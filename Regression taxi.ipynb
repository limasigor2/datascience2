{
 "cells": [
  {
   "cell_type": "markdown",
   "id": "cfaad90a",
   "metadata": {},
   "source": [
    "![Header](imgs/header.jpg)\n",
    "\n",
    "### Previsão de tempo de duração de uma viagem de Taxi de Nova York\n",
    "\n",
    "Francisco Igor da Silva Lima - 507536\n",
    "\n",
    "O desafio [New York City Taxi Trip Duration](https://www.kaggle.com/c/nyc-taxi-trip-duration/) do [Kaggle](https://www.kaggle.com/) é uma desafio de regressão que tem como finalidade prever a duração de uma viagem de taxi na cidade de Nova Yorque.\n",
    "\n",
    "Iremos realizar a regressão utilizando uma Regressão Linear e Support Vector Regression"
   ]
  },
  {
   "cell_type": "code",
   "execution_count": 1,
   "id": "25280695",
   "metadata": {},
   "outputs": [],
   "source": [
    "import pandas as pd\n",
    "import numpy as np\n",
    "\n",
    "from sklearn import preprocessing\n",
    "from datetime import datetime"
   ]
  },
  {
   "cell_type": "code",
   "execution_count": 2,
   "id": "ace4a09e",
   "metadata": {},
   "outputs": [],
   "source": [
    "# import dos dados\n",
    "\n",
    "df = pd.read_csv('train_taxi.csv')"
   ]
  },
  {
   "cell_type": "code",
   "execution_count": 3,
   "id": "eee693a5",
   "metadata": {},
   "outputs": [
    {
     "data": {
      "text/html": [
       "<div>\n",
       "<style scoped>\n",
       "    .dataframe tbody tr th:only-of-type {\n",
       "        vertical-align: middle;\n",
       "    }\n",
       "\n",
       "    .dataframe tbody tr th {\n",
       "        vertical-align: top;\n",
       "    }\n",
       "\n",
       "    .dataframe thead th {\n",
       "        text-align: right;\n",
       "    }\n",
       "</style>\n",
       "<table border=\"1\" class=\"dataframe\">\n",
       "  <thead>\n",
       "    <tr style=\"text-align: right;\">\n",
       "      <th></th>\n",
       "      <th>id</th>\n",
       "      <th>vendor_id</th>\n",
       "      <th>pickup_datetime</th>\n",
       "      <th>dropoff_datetime</th>\n",
       "      <th>passenger_count</th>\n",
       "      <th>pickup_longitude</th>\n",
       "      <th>pickup_latitude</th>\n",
       "      <th>dropoff_longitude</th>\n",
       "      <th>dropoff_latitude</th>\n",
       "      <th>store_and_fwd_flag</th>\n",
       "      <th>trip_duration</th>\n",
       "    </tr>\n",
       "  </thead>\n",
       "  <tbody>\n",
       "    <tr>\n",
       "      <th>0</th>\n",
       "      <td>id2875421</td>\n",
       "      <td>2</td>\n",
       "      <td>2016-03-14 17:24:55</td>\n",
       "      <td>2016-03-14 17:32:30</td>\n",
       "      <td>1</td>\n",
       "      <td>-73.982155</td>\n",
       "      <td>40.767937</td>\n",
       "      <td>-73.964630</td>\n",
       "      <td>40.765602</td>\n",
       "      <td>N</td>\n",
       "      <td>455</td>\n",
       "    </tr>\n",
       "    <tr>\n",
       "      <th>1</th>\n",
       "      <td>id2377394</td>\n",
       "      <td>1</td>\n",
       "      <td>2016-06-12 00:43:35</td>\n",
       "      <td>2016-06-12 00:54:38</td>\n",
       "      <td>1</td>\n",
       "      <td>-73.980415</td>\n",
       "      <td>40.738564</td>\n",
       "      <td>-73.999481</td>\n",
       "      <td>40.731152</td>\n",
       "      <td>N</td>\n",
       "      <td>663</td>\n",
       "    </tr>\n",
       "    <tr>\n",
       "      <th>2</th>\n",
       "      <td>id3858529</td>\n",
       "      <td>2</td>\n",
       "      <td>2016-01-19 11:35:24</td>\n",
       "      <td>2016-01-19 12:10:48</td>\n",
       "      <td>1</td>\n",
       "      <td>-73.979027</td>\n",
       "      <td>40.763939</td>\n",
       "      <td>-74.005333</td>\n",
       "      <td>40.710087</td>\n",
       "      <td>N</td>\n",
       "      <td>2124</td>\n",
       "    </tr>\n",
       "    <tr>\n",
       "      <th>3</th>\n",
       "      <td>id3504673</td>\n",
       "      <td>2</td>\n",
       "      <td>2016-04-06 19:32:31</td>\n",
       "      <td>2016-04-06 19:39:40</td>\n",
       "      <td>1</td>\n",
       "      <td>-74.010040</td>\n",
       "      <td>40.719971</td>\n",
       "      <td>-74.012268</td>\n",
       "      <td>40.706718</td>\n",
       "      <td>N</td>\n",
       "      <td>429</td>\n",
       "    </tr>\n",
       "    <tr>\n",
       "      <th>4</th>\n",
       "      <td>id2181028</td>\n",
       "      <td>2</td>\n",
       "      <td>2016-03-26 13:30:55</td>\n",
       "      <td>2016-03-26 13:38:10</td>\n",
       "      <td>1</td>\n",
       "      <td>-73.973053</td>\n",
       "      <td>40.793209</td>\n",
       "      <td>-73.972923</td>\n",
       "      <td>40.782520</td>\n",
       "      <td>N</td>\n",
       "      <td>435</td>\n",
       "    </tr>\n",
       "  </tbody>\n",
       "</table>\n",
       "</div>"
      ],
      "text/plain": [
       "          id  vendor_id      pickup_datetime     dropoff_datetime  \\\n",
       "0  id2875421          2  2016-03-14 17:24:55  2016-03-14 17:32:30   \n",
       "1  id2377394          1  2016-06-12 00:43:35  2016-06-12 00:54:38   \n",
       "2  id3858529          2  2016-01-19 11:35:24  2016-01-19 12:10:48   \n",
       "3  id3504673          2  2016-04-06 19:32:31  2016-04-06 19:39:40   \n",
       "4  id2181028          2  2016-03-26 13:30:55  2016-03-26 13:38:10   \n",
       "\n",
       "   passenger_count  pickup_longitude  pickup_latitude  dropoff_longitude  \\\n",
       "0                1        -73.982155        40.767937         -73.964630   \n",
       "1                1        -73.980415        40.738564         -73.999481   \n",
       "2                1        -73.979027        40.763939         -74.005333   \n",
       "3                1        -74.010040        40.719971         -74.012268   \n",
       "4                1        -73.973053        40.793209         -73.972923   \n",
       "\n",
       "   dropoff_latitude store_and_fwd_flag  trip_duration  \n",
       "0         40.765602                  N            455  \n",
       "1         40.731152                  N            663  \n",
       "2         40.710087                  N           2124  \n",
       "3         40.706718                  N            429  \n",
       "4         40.782520                  N            435  "
      ]
     },
     "execution_count": 3,
     "metadata": {},
     "output_type": "execute_result"
    }
   ],
   "source": [
    "df.head()"
   ]
  },
  {
   "cell_type": "markdown",
   "id": "3bec0a03",
   "metadata": {},
   "source": [
    "## Pre processamento"
   ]
  },
  {
   "cell_type": "markdown",
   "id": "63105efb",
   "metadata": {},
   "source": [
    "### Significados dos Campos:\n",
    "\n",
    "- id - a unique identifier for each trip\n",
    "- vendor_id - a code indicating the provider associated with the trip record\n",
    "- pickup_datetime - date and time when the meter was engaged\n",
    "- dropoff_datetime - date and time when the meter was disengaged\n",
    "- passenger_count - the number of passengers in the vehicle (driver entered value)\n",
    "- pickup_longitude - the longitude where the meter was engaged\n",
    "- pickup_latitude - the latitude where the meter was engaged\n",
    "- dropoff_longitude - the longitude where the meter was disengaged\n",
    "- dropoff_latitude - the latitude where the meter was disengaged\n",
    "- store_and_fwd_flag - This flag indicates whether the trip record was held in vehicle memory before sending to the vendor because the vehicle did not have a connection to the server - Y=store and forward; N=not a store and forward trip\n",
    "- trip_duration - duration of the trip in seconds\n"
   ]
  },
  {
   "cell_type": "code",
   "execution_count": 4,
   "id": "dff8cc8c",
   "metadata": {},
   "outputs": [],
   "source": [
    "df = df.drop(['id', 'dropoff_datetime', 'store_and_fwd_flag'], axis=1)"
   ]
  },
  {
   "cell_type": "code",
   "execution_count": 5,
   "id": "59208408",
   "metadata": {},
   "outputs": [],
   "source": [
    "def time_to_timestamp(value):\n",
    "    return value.hour *60 + value.day"
   ]
  },
  {
   "cell_type": "code",
   "execution_count": 6,
   "id": "2bb0b59d",
   "metadata": {},
   "outputs": [],
   "source": [
    "# transformar o pickup_datetime em valor numérico\n",
    "df['pickup_datetime'] = df['pickup_datetime'].apply(lambda x:  time_to_timestamp(datetime.strptime(x, '%Y-%m-%d %H:%M:%S')))"
   ]
  },
  {
   "cell_type": "code",
   "execution_count": 7,
   "id": "bdfc98af",
   "metadata": {},
   "outputs": [
    {
     "data": {
      "text/html": [
       "<div>\n",
       "<style scoped>\n",
       "    .dataframe tbody tr th:only-of-type {\n",
       "        vertical-align: middle;\n",
       "    }\n",
       "\n",
       "    .dataframe tbody tr th {\n",
       "        vertical-align: top;\n",
       "    }\n",
       "\n",
       "    .dataframe thead th {\n",
       "        text-align: right;\n",
       "    }\n",
       "</style>\n",
       "<table border=\"1\" class=\"dataframe\">\n",
       "  <thead>\n",
       "    <tr style=\"text-align: right;\">\n",
       "      <th></th>\n",
       "      <th>vendor_id</th>\n",
       "      <th>pickup_datetime</th>\n",
       "      <th>passenger_count</th>\n",
       "      <th>pickup_longitude</th>\n",
       "      <th>pickup_latitude</th>\n",
       "      <th>dropoff_longitude</th>\n",
       "      <th>dropoff_latitude</th>\n",
       "      <th>trip_duration</th>\n",
       "    </tr>\n",
       "  </thead>\n",
       "  <tbody>\n",
       "    <tr>\n",
       "      <th>0</th>\n",
       "      <td>2</td>\n",
       "      <td>1034</td>\n",
       "      <td>1</td>\n",
       "      <td>-73.982155</td>\n",
       "      <td>40.767937</td>\n",
       "      <td>-73.964630</td>\n",
       "      <td>40.765602</td>\n",
       "      <td>455</td>\n",
       "    </tr>\n",
       "    <tr>\n",
       "      <th>1</th>\n",
       "      <td>1</td>\n",
       "      <td>12</td>\n",
       "      <td>1</td>\n",
       "      <td>-73.980415</td>\n",
       "      <td>40.738564</td>\n",
       "      <td>-73.999481</td>\n",
       "      <td>40.731152</td>\n",
       "      <td>663</td>\n",
       "    </tr>\n",
       "    <tr>\n",
       "      <th>2</th>\n",
       "      <td>2</td>\n",
       "      <td>679</td>\n",
       "      <td>1</td>\n",
       "      <td>-73.979027</td>\n",
       "      <td>40.763939</td>\n",
       "      <td>-74.005333</td>\n",
       "      <td>40.710087</td>\n",
       "      <td>2124</td>\n",
       "    </tr>\n",
       "    <tr>\n",
       "      <th>3</th>\n",
       "      <td>2</td>\n",
       "      <td>1146</td>\n",
       "      <td>1</td>\n",
       "      <td>-74.010040</td>\n",
       "      <td>40.719971</td>\n",
       "      <td>-74.012268</td>\n",
       "      <td>40.706718</td>\n",
       "      <td>429</td>\n",
       "    </tr>\n",
       "    <tr>\n",
       "      <th>4</th>\n",
       "      <td>2</td>\n",
       "      <td>806</td>\n",
       "      <td>1</td>\n",
       "      <td>-73.973053</td>\n",
       "      <td>40.793209</td>\n",
       "      <td>-73.972923</td>\n",
       "      <td>40.782520</td>\n",
       "      <td>435</td>\n",
       "    </tr>\n",
       "  </tbody>\n",
       "</table>\n",
       "</div>"
      ],
      "text/plain": [
       "   vendor_id  pickup_datetime  passenger_count  pickup_longitude  \\\n",
       "0          2             1034                1        -73.982155   \n",
       "1          1               12                1        -73.980415   \n",
       "2          2              679                1        -73.979027   \n",
       "3          2             1146                1        -74.010040   \n",
       "4          2              806                1        -73.973053   \n",
       "\n",
       "   pickup_latitude  dropoff_longitude  dropoff_latitude  trip_duration  \n",
       "0        40.767937         -73.964630         40.765602            455  \n",
       "1        40.738564         -73.999481         40.731152            663  \n",
       "2        40.763939         -74.005333         40.710087           2124  \n",
       "3        40.719971         -74.012268         40.706718            429  \n",
       "4        40.793209         -73.972923         40.782520            435  "
      ]
     },
     "execution_count": 7,
     "metadata": {},
     "output_type": "execute_result"
    }
   ],
   "source": [
    "df.head()"
   ]
  },
  {
   "cell_type": "code",
   "execution_count": 8,
   "id": "4fc19b2e",
   "metadata": {},
   "outputs": [
    {
     "data": {
      "text/plain": [
       "(1458644, 8)"
      ]
     },
     "execution_count": 8,
     "metadata": {},
     "output_type": "execute_result"
    }
   ],
   "source": [
    "df.shape"
   ]
  },
  {
   "cell_type": "markdown",
   "id": "0a166514",
   "metadata": {},
   "source": [
    "### Divisão do Dataset"
   ]
  },
  {
   "cell_type": "code",
   "execution_count": 9,
   "id": "edac5d4c",
   "metadata": {},
   "outputs": [],
   "source": [
    "from sklearn.model_selection import train_test_split"
   ]
  },
  {
   "cell_type": "code",
   "execution_count": 10,
   "id": "966a364d",
   "metadata": {},
   "outputs": [],
   "source": [
    "X = df[['pickup_datetime', 'pickup_longitude', 'pickup_latitude',\n",
    "        'dropoff_longitude', 'dropoff_latitude', 'vendor_id', 'passenger_count']]\n",
    "y = df['trip_duration']"
   ]
  },
  {
   "cell_type": "code",
   "execution_count": 11,
   "id": "da86f600",
   "metadata": {},
   "outputs": [],
   "source": [
    "X_train, X_test, y_train, y_test = train_test_split(X, y, test_size=0.3, random_state=42)"
   ]
  },
  {
   "cell_type": "code",
   "execution_count": 12,
   "id": "426786f1",
   "metadata": {},
   "outputs": [],
   "source": [
    "X_test, X_valid, y_test, y_valid = train_test_split(X_test, y_test, test_size=0.333, random_state=42)"
   ]
  },
  {
   "cell_type": "code",
   "execution_count": 13,
   "id": "8ab8276c",
   "metadata": {},
   "outputs": [
    {
     "name": "stdout",
     "output_type": "stream",
     "text": [
      "(1458644, 8)\n",
      "(1021050, 7)\n",
      "(1021050,)\n",
      "(291875, 7)\n",
      "(291875,)\n",
      "(145719, 7)\n",
      "(145719,)\n"
     ]
    }
   ],
   "source": [
    "print(df.shape)\n",
    "print(X_train.shape)\n",
    "print(y_train.shape)\n",
    "print(X_test.shape)\n",
    "print(y_test.shape)\n",
    "print(X_valid.shape)\n",
    "print(y_valid.shape)"
   ]
  },
  {
   "cell_type": "code",
   "execution_count": 14,
   "id": "e572bd73",
   "metadata": {},
   "outputs": [
    {
     "data": {
      "text/html": [
       "<div>\n",
       "<style scoped>\n",
       "    .dataframe tbody tr th:only-of-type {\n",
       "        vertical-align: middle;\n",
       "    }\n",
       "\n",
       "    .dataframe tbody tr th {\n",
       "        vertical-align: top;\n",
       "    }\n",
       "\n",
       "    .dataframe thead th {\n",
       "        text-align: right;\n",
       "    }\n",
       "</style>\n",
       "<table border=\"1\" class=\"dataframe\">\n",
       "  <thead>\n",
       "    <tr style=\"text-align: right;\">\n",
       "      <th></th>\n",
       "      <th>pickup_datetime</th>\n",
       "      <th>pickup_longitude</th>\n",
       "      <th>pickup_latitude</th>\n",
       "      <th>dropoff_longitude</th>\n",
       "      <th>dropoff_latitude</th>\n",
       "      <th>vendor_id</th>\n",
       "      <th>passenger_count</th>\n",
       "    </tr>\n",
       "  </thead>\n",
       "  <tbody>\n",
       "    <tr>\n",
       "      <th>1011257</th>\n",
       "      <td>543</td>\n",
       "      <td>-73.979813</td>\n",
       "      <td>40.752529</td>\n",
       "      <td>-73.982681</td>\n",
       "      <td>40.763680</td>\n",
       "      <td>2</td>\n",
       "      <td>2</td>\n",
       "    </tr>\n",
       "    <tr>\n",
       "      <th>178550</th>\n",
       "      <td>961</td>\n",
       "      <td>-73.977623</td>\n",
       "      <td>40.746296</td>\n",
       "      <td>-73.968414</td>\n",
       "      <td>40.788933</td>\n",
       "      <td>1</td>\n",
       "      <td>1</td>\n",
       "    </tr>\n",
       "    <tr>\n",
       "      <th>551460</th>\n",
       "      <td>804</td>\n",
       "      <td>-73.950699</td>\n",
       "      <td>40.779404</td>\n",
       "      <td>-73.863129</td>\n",
       "      <td>40.768608</td>\n",
       "      <td>1</td>\n",
       "      <td>1</td>\n",
       "    </tr>\n",
       "    <tr>\n",
       "      <th>1434271</th>\n",
       "      <td>1030</td>\n",
       "      <td>-73.984558</td>\n",
       "      <td>40.721802</td>\n",
       "      <td>-73.976753</td>\n",
       "      <td>40.752213</td>\n",
       "      <td>2</td>\n",
       "      <td>1</td>\n",
       "    </tr>\n",
       "    <tr>\n",
       "      <th>1173610</th>\n",
       "      <td>1045</td>\n",
       "      <td>-73.967720</td>\n",
       "      <td>40.768742</td>\n",
       "      <td>-73.977173</td>\n",
       "      <td>40.789875</td>\n",
       "      <td>1</td>\n",
       "      <td>1</td>\n",
       "    </tr>\n",
       "  </tbody>\n",
       "</table>\n",
       "</div>"
      ],
      "text/plain": [
       "         pickup_datetime  pickup_longitude  pickup_latitude  \\\n",
       "1011257              543        -73.979813        40.752529   \n",
       "178550               961        -73.977623        40.746296   \n",
       "551460               804        -73.950699        40.779404   \n",
       "1434271             1030        -73.984558        40.721802   \n",
       "1173610             1045        -73.967720        40.768742   \n",
       "\n",
       "         dropoff_longitude  dropoff_latitude  vendor_id  passenger_count  \n",
       "1011257         -73.982681         40.763680          2                2  \n",
       "178550          -73.968414         40.788933          1                1  \n",
       "551460          -73.863129         40.768608          1                1  \n",
       "1434271         -73.976753         40.752213          2                1  \n",
       "1173610         -73.977173         40.789875          1                1  "
      ]
     },
     "execution_count": 14,
     "metadata": {},
     "output_type": "execute_result"
    }
   ],
   "source": [
    "X_train.head()"
   ]
  },
  {
   "cell_type": "markdown",
   "id": "e4581aae",
   "metadata": {},
   "source": [
    "### Treinamento\n",
    "\n",
    "Iremos começar pela Regressão Linear"
   ]
  },
  {
   "cell_type": "code",
   "execution_count": 15,
   "id": "2aafbf91",
   "metadata": {},
   "outputs": [],
   "source": [
    "from sklearn.linear_model import LinearRegression\n",
    "from sklearn.metrics import mean_squared_log_error"
   ]
  },
  {
   "cell_type": "code",
   "execution_count": 16,
   "id": "ded097ea",
   "metadata": {},
   "outputs": [],
   "source": [
    "lr = LinearRegression().fit(X_train, y_train)"
   ]
  },
  {
   "cell_type": "code",
   "execution_count": 17,
   "id": "e213d31b",
   "metadata": {},
   "outputs": [
    {
     "data": {
      "text/plain": [
       "LinearRegression()"
      ]
     },
     "execution_count": 17,
     "metadata": {},
     "output_type": "execute_result"
    }
   ],
   "source": [
    "lr = LinearRegression()\n",
    "lr.fit(X_train, y_train)"
   ]
  },
  {
   "cell_type": "code",
   "execution_count": 18,
   "id": "7983f7db",
   "metadata": {},
   "outputs": [],
   "source": [
    "y_predicted = lr.predict(X_test)"
   ]
  },
  {
   "cell_type": "code",
   "execution_count": 19,
   "id": "bbb962aa",
   "metadata": {},
   "outputs": [
    {
     "data": {
      "text/plain": [
       "(291875,)"
      ]
     },
     "execution_count": 19,
     "metadata": {},
     "output_type": "execute_result"
    }
   ],
   "source": [
    "y_predicted.shape"
   ]
  },
  {
   "cell_type": "code",
   "execution_count": 20,
   "id": "7b37dc59",
   "metadata": {},
   "outputs": [
    {
     "data": {
      "text/plain": [
       "-9694.7181619053"
      ]
     },
     "execution_count": 20,
     "metadata": {},
     "output_type": "execute_result"
    }
   ],
   "source": [
    "y_predicted.min()"
   ]
  },
  {
   "cell_type": "code",
   "execution_count": 21,
   "id": "5252a96d",
   "metadata": {},
   "outputs": [],
   "source": [
    "# a métrica que iremos utilizar necessita que todos os valores \n",
    "#    sejam maiores que zero, por iremos fazer essa conversão\n",
    "#    até pq não existem minutos negativos, o que é um erro\n",
    "#    do modelo, uma viagem não pode durar -8 minutos, por exemplo\n",
    "y_predicted = np.array([i if i>=0 else 0 for i in y_predicted])"
   ]
  },
  {
   "cell_type": "code",
   "execution_count": 22,
   "id": "480d9fbf",
   "metadata": {},
   "outputs": [
    {
     "data": {
      "text/plain": [
       "0.0"
      ]
     },
     "execution_count": 22,
     "metadata": {},
     "output_type": "execute_result"
    }
   ],
   "source": [
    "y_predicted.min()"
   ]
  },
  {
   "cell_type": "markdown",
   "id": "cec5d8eb",
   "metadata": {},
   "source": [
    "A métrica que iremos utilizar é o RMSLE (Erro logarítmico médio quadrático) que é a métrica utilizada na competição.\n",
    "\n",
    "\n",
    "$$\n",
    "\\epsilon = \\sqrt{\\frac{1}{n} \\sum_{i=1}^n (\\log(p_i + 1) - \\log(a_i+1))^2 }\n",
    "$$\n",
    "\n",
    "$\\epsilon$  é o score RMSLE )\n",
    "\n",
    "$n$ é o número de observações no dataset\n",
    "\n",
    "$p_i$ é o valor predito para \\\\(i\\\\)\n",
    "\n",
    "$a_i$ é o valor real para \\\\(i\\\\)\n",
    "\n",
    "$\\log(x)$ é o logaritmo natural de  \\\\(x\\\\)"
   ]
  },
  {
   "cell_type": "code",
   "execution_count": 23,
   "id": "3fe066a5",
   "metadata": {},
   "outputs": [
    {
     "name": "stdout",
     "output_type": "stream",
     "text": [
      "O RMSLE obtido foi de: 0.868642688411222\n"
     ]
    }
   ],
   "source": [
    "print(f\"O RMSLE obtido foi de: {np.sqrt(mean_squared_log_error(y_predicted, y_test))}\")"
   ]
  },
  {
   "cell_type": "code",
   "execution_count": 24,
   "id": "e702b497",
   "metadata": {},
   "outputs": [],
   "source": [
    "#df = df.drop(['id', 'dropoff_datetime', 'store_and_fwd_flag'], axis=1)"
   ]
  },
  {
   "cell_type": "markdown",
   "id": "24a84f63",
   "metadata": {},
   "source": [
    "### Standardização\n",
    "\n",
    "Vamos standizar os dados para tentar melhorar as predições"
   ]
  },
  {
   "cell_type": "code",
   "execution_count": 25,
   "id": "585c683b",
   "metadata": {},
   "outputs": [],
   "source": [
    "from sklearn.preprocessing import StandardScaler"
   ]
  },
  {
   "cell_type": "code",
   "execution_count": 26,
   "id": "de620404",
   "metadata": {},
   "outputs": [
    {
     "data": {
      "text/plain": [
       "StandardScaler()"
      ]
     },
     "execution_count": 26,
     "metadata": {},
     "output_type": "execute_result"
    }
   ],
   "source": [
    "scaler = StandardScaler()\n",
    "scaler.fit(X_train)"
   ]
  },
  {
   "cell_type": "code",
   "execution_count": 27,
   "id": "9b99d6cd",
   "metadata": {},
   "outputs": [],
   "source": [
    "X_train_std = scaler.transform(X_train)\n",
    "X_test_std = scaler.transform(X_test)"
   ]
  },
  {
   "cell_type": "code",
   "execution_count": 28,
   "id": "f542a408",
   "metadata": {},
   "outputs": [
    {
     "data": {
      "text/plain": [
       "LinearRegression()"
      ]
     },
     "execution_count": 28,
     "metadata": {},
     "output_type": "execute_result"
    }
   ],
   "source": [
    "lr = LinearRegression()\n",
    "lr.fit(X_train_std, y_train)"
   ]
  },
  {
   "cell_type": "code",
   "execution_count": 29,
   "id": "f808c6aa",
   "metadata": {},
   "outputs": [],
   "source": [
    "y_predicted = lr.predict(X_test_std)"
   ]
  },
  {
   "cell_type": "code",
   "execution_count": 30,
   "id": "1c4c6d3f",
   "metadata": {},
   "outputs": [
    {
     "data": {
      "text/plain": [
       "(291875,)"
      ]
     },
     "execution_count": 30,
     "metadata": {},
     "output_type": "execute_result"
    }
   ],
   "source": [
    "y_predicted.shape"
   ]
  },
  {
   "cell_type": "code",
   "execution_count": 31,
   "id": "893b466f",
   "metadata": {},
   "outputs": [
    {
     "data": {
      "text/plain": [
       "-9694.718161905545"
      ]
     },
     "execution_count": 31,
     "metadata": {},
     "output_type": "execute_result"
    }
   ],
   "source": [
    "y_predicted.min()"
   ]
  },
  {
   "cell_type": "code",
   "execution_count": 32,
   "id": "1da14a3c",
   "metadata": {},
   "outputs": [],
   "source": [
    "# semelhante ao modelo passado precisamos realizar o mesmo processamento\n",
    "y_predicted_std = np.array([i if i>=0 else 0 for i in y_predicted])"
   ]
  },
  {
   "cell_type": "code",
   "execution_count": 33,
   "id": "c60fb4af",
   "metadata": {},
   "outputs": [
    {
     "data": {
      "text/plain": [
       "0.0"
      ]
     },
     "execution_count": 33,
     "metadata": {},
     "output_type": "execute_result"
    }
   ],
   "source": [
    "y_predicted_std.min()"
   ]
  },
  {
   "cell_type": "code",
   "execution_count": 34,
   "id": "22f77a42",
   "metadata": {},
   "outputs": [
    {
     "name": "stdout",
     "output_type": "stream",
     "text": [
      "O RMSLE obtido foi de: 0.8686426884112426\n"
     ]
    }
   ],
   "source": [
    "print(f\"O RMSLE obtido foi de: {np.sqrt(mean_squared_log_error(y_predicted_std, y_test))}\")"
   ]
  },
  {
   "cell_type": "code",
   "execution_count": 35,
   "id": "fe78608d",
   "metadata": {},
   "outputs": [],
   "source": [
    "#del df, X, y, X_train, X_test, y_train, y_test, y_predicted"
   ]
  },
  {
   "cell_type": "markdown",
   "id": "d1a5cb34",
   "metadata": {},
   "source": [
    "Podemos concluir que o uma Regressão Linear não é um bom modelo para esse modelo"
   ]
  },
  {
   "cell_type": "markdown",
   "id": "f5efccf4",
   "metadata": {},
   "source": [
    "### Arvore de Decisão\n",
    "\n",
    "Uma árvore de decisão tenta tomar decisões baseado em regras que a própria árvore infere sobre os dados.\n",
    "\n",
    "A árvore tem nós e folhas, nos nós temos as \"regras\" e nas folhas temos os valores da decisão. Tenhamos como exemplo o problema do [titanic](https://www.kaggle.com/c/titanic), em um nó, podemos ter variável sexo == HOMEM as pessoas que não mulheres podem ser classificadas sobreviventes.\n",
    "\n",
    "\n",
    "\n",
    "![Header](imgs/titanic-decision-tree.png)\n"
   ]
  },
  {
   "cell_type": "code",
   "execution_count": 36,
   "id": "b63da517",
   "metadata": {},
   "outputs": [],
   "source": [
    "from sklearn.tree import DecisionTreeRegressor"
   ]
  },
  {
   "cell_type": "code",
   "execution_count": 37,
   "id": "2d51e0f2",
   "metadata": {},
   "outputs": [],
   "source": [
    "regressor = DecisionTreeRegressor(random_state=42)"
   ]
  },
  {
   "cell_type": "code",
   "execution_count": 38,
   "id": "e5c52268",
   "metadata": {},
   "outputs": [
    {
     "data": {
      "text/plain": [
       "DecisionTreeRegressor(random_state=42)"
      ]
     },
     "execution_count": 38,
     "metadata": {},
     "output_type": "execute_result"
    }
   ],
   "source": [
    "regressor.fit(X_train, y_train)"
   ]
  },
  {
   "cell_type": "code",
   "execution_count": 39,
   "id": "cfe3ce11",
   "metadata": {},
   "outputs": [],
   "source": [
    "y_pred = regressor.predict(X_test)"
   ]
  },
  {
   "cell_type": "code",
   "execution_count": 40,
   "id": "a4fd34c2",
   "metadata": {},
   "outputs": [
    {
     "name": "stdout",
     "output_type": "stream",
     "text": [
      "O RMSLE obtido foi de: 0.6169452365405642\n"
     ]
    }
   ],
   "source": [
    "print(f\"O RMSLE obtido foi de: {np.sqrt(mean_squared_log_error(y_pred, y_test))}\")"
   ]
  },
  {
   "cell_type": "markdown",
   "id": "1fb25edf",
   "metadata": {},
   "source": [
    "O resultado obtido com uma Arvore de Decisão foi bastante superior ao da Regressão Linear, mas mesmo assim vamos treintar com outros valores"
   ]
  },
  {
   "cell_type": "code",
   "execution_count": 41,
   "id": "48bb33b2",
   "metadata": {},
   "outputs": [],
   "source": [
    "regressor = DecisionTreeRegressor(random_state=42)"
   ]
  },
  {
   "cell_type": "code",
   "execution_count": 42,
   "id": "101ce51f",
   "metadata": {},
   "outputs": [
    {
     "data": {
      "text/plain": [
       "DecisionTreeRegressor(random_state=42)"
      ]
     },
     "execution_count": 42,
     "metadata": {},
     "output_type": "execute_result"
    }
   ],
   "source": [
    "regressor.fit(X_train_std, y_train)"
   ]
  },
  {
   "cell_type": "code",
   "execution_count": 43,
   "id": "017e65d9",
   "metadata": {},
   "outputs": [],
   "source": [
    "y_pred_std = regressor.predict(X_test_std)"
   ]
  },
  {
   "cell_type": "code",
   "execution_count": 44,
   "id": "beb2b0bd",
   "metadata": {},
   "outputs": [
    {
     "name": "stdout",
     "output_type": "stream",
     "text": [
      "O RMSLE obtido foi de: 0.6168712048250917\n"
     ]
    }
   ],
   "source": [
    "print(f\"O RMSLE obtido foi de: {np.sqrt(mean_squared_log_error(y_pred_std, y_test))}\")"
   ]
  },
  {
   "cell_type": "code",
   "execution_count": 45,
   "id": "95dc14aa",
   "metadata": {},
   "outputs": [],
   "source": [
    "# o resultado obtido foi praticamente o mesmo"
   ]
  },
  {
   "cell_type": "markdown",
   "id": "a646d63f",
   "metadata": {},
   "source": [
    "![Header](imgs/taxi.gif)\n"
   ]
  }
 ],
 "metadata": {
  "kernelspec": {
   "display_name": "Python 3",
   "language": "python",
   "name": "python3"
  },
  "language_info": {
   "codemirror_mode": {
    "name": "ipython",
    "version": 3
   },
   "file_extension": ".py",
   "mimetype": "text/x-python",
   "name": "python",
   "nbconvert_exporter": "python",
   "pygments_lexer": "ipython3",
   "version": "3.8.8"
  }
 },
 "nbformat": 4,
 "nbformat_minor": 5
}
